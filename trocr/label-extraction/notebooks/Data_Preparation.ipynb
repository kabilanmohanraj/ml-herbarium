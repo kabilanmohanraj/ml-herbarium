{
 "cells": [
  {
   "cell_type": "markdown",
   "id": "bc40e8c6",
   "metadata": {},
   "source": [
    "## Data Labeling"
   ]
  },
  {
   "cell_type": "markdown",
   "id": "678ddb39-ccd2-46a8-9a1e-e183e14124cb",
   "metadata": {},
   "source": [
    "Data labelling was done with Label Studio (Community edition). To get started with Label Studio follow the below links please. (The learning curve isn't steep, it is very intuitive to use.)\n",
    "\n",
    "https://labelstud.io/guide/get_started.html#Quick-start \\\n",
    "https://labelstud.io/guide/storage.html#Local-storage\n",
    "\n",
    "**\"Object Detection\"** is the project type used, if you are looking to lable more data to fine-tune the DETR model.\n",
    "\n",
    "**\"COCO\"** is the format used when exporting the labeled images. We use the COCO format to conform with DETR model requirements."
   ]
  },
  {
   "cell_type": "markdown",
   "id": "f85736ce-0376-47df-913f-3edc731c9f12",
   "metadata": {},
   "source": [
    "## Data Availability\n",
    "\n",
    "The dataset for this project is stored in Google Drive and follows the COCO format. This choice of format ensures easy compatibility with various ML frameworks. Hosting on Google Drive allows for streamlined access and collaboration among team members.\n",
    "\n",
    "**Link to download:** https://drive.google.com/file/d/1GxU6u5L4EN-vVWv7M-8V3sENuUQPmu7t/view?usp=sharing"
   ]
  },
  {
   "cell_type": "code",
   "execution_count": null,
   "id": "5e7a46d1",
   "metadata": {},
   "outputs": [],
   "source": []
  }
 ],
 "metadata": {
  "kernelspec": {
   "display_name": "Python 3 (ipykernel)",
   "language": "python",
   "name": "python3"
  },
  "language_info": {
   "codemirror_mode": {
    "name": "ipython",
    "version": 3
   },
   "file_extension": ".py",
   "mimetype": "text/x-python",
   "name": "python",
   "nbconvert_exporter": "python",
   "pygments_lexer": "ipython3",
   "version": "3.9.16"
  }
 },
 "nbformat": 4,
 "nbformat_minor": 5
}
