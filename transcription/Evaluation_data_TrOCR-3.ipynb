{
 "cells": [
  {
   "cell_type": "markdown",
   "metadata": {},
   "source": [
    "# Creation of the Evaluation data for TrOCR"
   ]
  },
  {
   "cell_type": "code",
   "execution_count": 2,
   "metadata": {},
   "outputs": [
    {
     "name": "stdout",
     "output_type": "stream",
     "text": [
      "Defaulting to user installation because normal site-packages is not writeable\n",
      "Collecting python-dwca-reader\n",
      "  Downloading python_dwca_reader-0.15.1-py3-none-any.whl (38 kB)\n",
      "Installing collected packages: python-dwca-reader\n",
      "Successfully installed python-dwca-reader-0.15.1\n",
      "\u001b[33mWARNING: You are using pip version 21.1.1; however, version 23.0.1 is available.\n",
      "You should consider upgrading via the '/share/pkg.7/python3/3.8.10/install/bin/python3.8 -m pip install --upgrade pip' command.\u001b[0m\n",
      "Note: you may need to restart the kernel to use updated packages.\n"
     ]
    }
   ],
   "source": [
    "pip install python-dwca-reader"
   ]
  },
  {
   "cell_type": "code",
   "execution_count": 10,
   "metadata": {},
   "outputs": [],
   "source": [
    "import requests\n",
    "import shutil\n",
    "import os\n",
    "import time\n",
    "import math\n",
    "import pandas\n",
    "import json\n",
    "from tqdm import tqdm\n",
    "import glob\n",
    "import random\n",
    "from PIL import Image\n",
    "import imghdr\n",
    "from sklearn.model_selection import train_test_split\n",
    "# Multiprocessing stuff\n",
    "import multiprocessing as mp\n",
    "NUM_CORES = min(mp.cpu_count(), 50)\n",
    "\n",
    "# Some CV/DL module\n",
    "import numpy as np\n",
    "np.__version__\n",
    "import matplotlib.pyplot as plt\n",
    "import cv2\n",
    "\n",
    "\n",
    "from dwca.read import DwCAReader\n",
    "from dwca.darwincore.utils import qualname as qn"
   ]
  },
  {
   "cell_type": "code",
   "execution_count": 11,
   "metadata": {},
   "outputs": [],
   "source": [
    "# Some hyper-parameters\n",
    "EPOCHS = 25\n",
    "INIT_LR = 1e-3\n",
    "BS = 32\n",
    "default_image_size = tuple((256, 256))\n",
    "image_size = 0\n",
    "directory_root = './data'\n",
    "width=256\n",
    "height=256\n",
    "depth=3\n",
    "\n",
    "\n",
    "timestr = time.strftime(\"%Y%m%d-%H%M%S\")\n",
    "DATASET_CSV = \"//projectnb/sparkgrp/ml-herbarium-grp/ml-herbarium-data/data.csv\"\n",
    "DATASET_PATH = org_img_dir = \"/projectnb/sparkgrp/ml-herbarium-grp/ml-herbarium-data/scraped-data/20220616-061434/\"\t# \"/projectnb/sparkgrp/ml-herbarium-grp/ml-herbarium-data/scraped-data/drago_testdata/\"\n",
    "craft_res_dir = org_img_dir.replace('/scraped-data/', '/CRAFT-results/')\n",
    "seg_img_dir = org_img_dir.replace('/scraped-data/', '/seg-results/')\n",
    "\n",
    "PERCENT_TO_SCRAPE = 0.0007\n",
    "#PERCENT_TO_SCRAPE = 0.01252703\n",
    "NUMBER_TO_SKIP = 0\n",
    "OUTPUT_PATH = \"/projectnb/sparkgrp/ml-herbarium-grp/ml-herbarium-data-spring2023/TrOCR evaluation data/\" + timestr + \"/\"\n",
    "TEXT_PATH = \"/projectnb/sparkgrp/ml-herbarium-grp/ml-herbarium-data-spring2023/TrOCR evaluation data/\"\n",
    "OUTPUT_PATH_IMAGES = \"/projectnb/sparkgrp/ml-herbarium-grp/ml-herbarium-data-spring2023/TrOCR evaluation data/images/\" + timestr + \"/\"\n",
    "DATASET_URL = \"https://occurrence-download.gbif.org/occurrence/download/request/0196625-210914110416597.zip\"\n",
    "DATASET_TYPE = \"\"\n"
   ]
  },
  {
   "cell_type": "markdown",
   "metadata": {},
   "source": [
    "Note: There are 7,982,741 images avaialble in GBIF database, but we only scrapped 1198 images for evaluation purpose. If you want to see the amount of data that we have, use the following code, or you can checkout the 'scraping' folder to scrape more data from the website.\n",
    "\n",
    "```python\n",
    "# If you want to read the data from that data.csv file\n",
    "import pandas as pd\n",
    "df = pd.read_csv(DATASET_PATH + DATASET_CSV, sep=\"\\t\")\n",
    "DATASET_TYPE = \"csv\"\n",
    "colnames = []\n",
    "for col in df.columns:\n",
    "    colnames.append(col)\n",
    "print(f\"colnames: {colnames}\")\n",
    "print(f\"df.shape: {df.shape}\")\n",
    "```\n",
    "\n"
   ]
  },
  {
   "cell_type": "markdown",
   "metadata": {},
   "source": [
    "## Converting the CSV data into a pandas data frame"
   ]
  },
  {
   "cell_type": "code",
   "execution_count": 12,
   "metadata": {},
   "outputs": [
    {
     "name": "stdout",
     "output_type": "stream",
     "text": [
      "colnames: ['gbifID', 'datasetKey', 'occurrenceID', 'kingdom', 'phylum', 'class', 'order', 'family', 'genus', 'species', 'infraspecificEpithet', 'taxonRank', 'scientificName', 'verbatimScientificName', 'verbatimScientificNameAuthorship', 'countryCode', 'locality', 'stateProvince', 'occurrenceStatus', 'individualCount', 'publishingOrgKey', 'decimalLatitude', 'decimalLongitude', 'coordinateUncertaintyInMeters', 'coordinatePrecision', 'elevation', 'elevationAccuracy', 'depth', 'depthAccuracy', 'eventDate', 'day', 'month', 'year', 'taxonKey', 'speciesKey', 'basisOfRecord', 'institutionCode', 'collectionCode', 'catalogNumber', 'recordNumber', 'identifiedBy', 'dateIdentified', 'license', 'rightsHolder', 'recordedBy', 'typeStatus', 'establishmentMeans', 'lastInterpreted', 'mediaType', 'issue']\n",
      "df.shape: (7982741, 50)\n"
     ]
    }
   ],
   "source": [
    "import matplotlib.pyplot as plt\n",
    "import numpy as np\n",
    "import pandas as pd\n",
    "df = pd.read_csv(DATASET_CSV, sep=\"\\t\")\n",
    "DATASET_TYPE = \"csv\"\n",
    "colnames = []\n",
    "for col in df.columns:\n",
    "    colnames.append(col)\n",
    "print(f\"colnames: {colnames}\")\n",
    "print(f\"df.shape: {df.shape}\")"
   ]
  },
  {
   "cell_type": "code",
   "execution_count": 6,
   "metadata": {},
   "outputs": [],
   "source": [
    "df = df.sort_values(by='species')"
   ]
  },
  {
   "cell_type": "code",
   "execution_count": 18,
   "metadata": {},
   "outputs": [
    {
     "name": "stdout",
     "output_type": "stream",
     "text": [
      "             gbifID                            datasetKey  \\\n",
      "6228346  1638360008  b89a7f02-021d-4e7a-b19f-575d10578a6d   \n",
      "3741256  2575063623  861e6afe-f762-11e1-a439-00145eb45e9a   \n",
      "1399147  2575095083  861e6afe-f762-11e1-a439-00145eb45e9a   \n",
      "7010070  1839572480  b740eaa0-0679-41dc-acb7-990d562dfa37   \n",
      "7274512  1839572446  b740eaa0-0679-41dc-acb7-990d562dfa37   \n",
      "...             ...                                   ...   \n",
      "7982097  2827740321  07a54454-87c7-4e1e-b2ba-88a9d98d534b   \n",
      "7982159  2829738120  07a54454-87c7-4e1e-b2ba-88a9d98d534b   \n",
      "7982199  2827779665  07a54454-87c7-4e1e-b2ba-88a9d98d534b   \n",
      "7982445  2830037097  07a54454-87c7-4e1e-b2ba-88a9d98d534b   \n",
      "7982475  2828714677  07a54454-87c7-4e1e-b2ba-88a9d98d534b   \n",
      "\n",
      "                                              occurrenceID  kingdom  \\\n",
      "6228346                                                NaN  Plantae   \n",
      "3741256               781823f5-aab8-4cd8-b4c8-1578289c842a  Plantae   \n",
      "1399147               d3a05336-37b2-468d-9973-3e15e3e7f25f  Plantae   \n",
      "7010070  http://www.botanicalcollections.be/specimen/BR...  Plantae   \n",
      "7274512  http://www.botanicalcollections.be/specimen/BR...  Plantae   \n",
      "...                                                    ...      ...   \n",
      "7982097               e533dc7e-4bbf-4152-97fe-3da7b620d0a8  Plantae   \n",
      "7982159               34fd8590-726d-4f41-8f6f-96704da985a8  Plantae   \n",
      "7982199               70c6e803-69cd-4f98-b20a-f709cfde555b  Plantae   \n",
      "7982445               125b1596-44aa-488c-9800-dd3f15cff2b8  Plantae   \n",
      "7982475               41e76975-9cec-4484-bb2d-a0cd35fd2b7d  Plantae   \n",
      "\n",
      "               phylum          class        order       family         genus  \\\n",
      "6228346  Tracheophyta     Liliopsida  Asparagales  Orchidaceae            Aa   \n",
      "3741256  Tracheophyta     Liliopsida  Asparagales  Orchidaceae            Aa   \n",
      "1399147  Tracheophyta     Liliopsida  Asparagales  Orchidaceae            Aa   \n",
      "7010070  Tracheophyta     Liliopsida  Asparagales  Orchidaceae            Aa   \n",
      "7274512  Tracheophyta     Liliopsida  Asparagales  Orchidaceae            Aa   \n",
      "...               ...            ...          ...          ...           ...   \n",
      "7982097  Tracheophyta  Magnoliopsida     Myrtales    Myrtaceae  Leptospermum   \n",
      "7982159  Tracheophyta  Magnoliopsida     Myrtales    Myrtaceae  Leptospermum   \n",
      "7982199  Tracheophyta  Magnoliopsida     Myrtales    Myrtaceae       Eugenia   \n",
      "7982445  Tracheophyta  Magnoliopsida     Myrtales    Myrtaceae  Leptospermum   \n",
      "7982475  Tracheophyta  Magnoliopsida     Myrtales    Myrtaceae           NaN   \n",
      "\n",
      "                species  ...  identifiedBy       dateIdentified    license  \\\n",
      "6228346   Aa achalensis  ...           NaN                  NaN  CC_BY_4_0   \n",
      "3741256  Aa argyrolepis  ...           NaN                  NaN  CC_BY_4_0   \n",
      "1399147  Aa argyrolepis  ...           NaN                  NaN  CC_BY_4_0   \n",
      "7010070     Aa calceata  ...           NaN                  NaN  CC_BY_4_0   \n",
      "7274512     Aa calceata  ...           NaN                  NaN  CC_BY_4_0   \n",
      "...                 ...  ...           ...                  ...        ...   \n",
      "7982097             NaN  ...  Thompson, J.  1984-08-01T00:00:00  CC_BY_4_0   \n",
      "7982159             NaN  ...  Thompson, J.  1984-08-01T00:00:00  CC_BY_4_0   \n",
      "7982199             NaN  ...           NaN                  NaN  CC_BY_4_0   \n",
      "7982445             NaN  ...  Thompson, J.  1984-08-01T00:00:00  CC_BY_4_0   \n",
      "7982475             NaN  ...           NaN                  NaN  CC_BY_4_0   \n",
      "\n",
      "                                     rightsHolder                recordedBy  \\\n",
      "6228346                                       NaN  Hieronymus, G. (no. 796)   \n",
      "3741256  President and Fellows of Harvard College                   M. Bang   \n",
      "1399147  President and Fellows of Harvard College                  M. Lillo   \n",
      "7010070                      Meise Botanic Garden                 Mandon G.   \n",
      "7274512                      Meise Botanic Garden                 Mandon G.   \n",
      "...                                           ...                       ...   \n",
      "7982097                                       NaN                 Cheel, E.   \n",
      "7982159                                       NaN             Boorman, J.L.   \n",
      "7982199                                       NaN             Vieillard, E.   \n",
      "7982445                                       NaN              Maiden, J.H.   \n",
      "7982475                                       NaN             Boorman, J.L.   \n",
      "\n",
      "        typeStatus establishmentMeans           lastInterpreted   mediaType  \\\n",
      "6228346    SYNTYPE                NaN  2022-01-29T18:57:50.596Z  StillImage   \n",
      "3741256        NaN                NaN  2022-03-26T23:44:02.259Z  StillImage   \n",
      "1399147        NaN                NaN  2022-03-26T23:44:03.328Z  StillImage   \n",
      "7010070    ISOTYPE                NaN  2022-03-21T11:51:50.495Z  StillImage   \n",
      "7274512    ISOTYPE                NaN  2022-03-21T11:51:28.863Z  StillImage   \n",
      "...            ...                ...                       ...         ...   \n",
      "7982097        NaN             Native  2022-02-19T05:53:12.714Z  StillImage   \n",
      "7982159        NaN             Native  2022-02-19T05:53:40.448Z  StillImage   \n",
      "7982199        NaN             Native  2022-02-19T05:53:44.062Z  StillImage   \n",
      "7982445        NaN             Native  2022-02-19T05:53:36.136Z  StillImage   \n",
      "7982475        NaN             Native  2022-02-19T05:53:40.715Z  StillImage   \n",
      "\n",
      "                                                     issue  \n",
      "6228346      INSTITUTION_MATCH_FUZZY;COLLECTION_MATCH_NONE  \n",
      "3741256                             COLLECTION_MATCH_FUZZY  \n",
      "1399147                             COLLECTION_MATCH_FUZZY  \n",
      "7010070                              COLLECTION_MATCH_NONE  \n",
      "7274512                              COLLECTION_MATCH_NONE  \n",
      "...                                                    ...  \n",
      "7982097  COORDINATE_ROUNDED;INSTITUTION_MATCH_FUZZY;COL...  \n",
      "7982159     INSTITUTION_MATCH_FUZZY;COLLECTION_MATCH_FUZZY  \n",
      "7982199     INSTITUTION_MATCH_FUZZY;COLLECTION_MATCH_FUZZY  \n",
      "7982445     INSTITUTION_MATCH_FUZZY;COLLECTION_MATCH_FUZZY  \n",
      "7982475     INSTITUTION_MATCH_FUZZY;COLLECTION_MATCH_FUZZY  \n",
      "\n",
      "[7982741 rows x 50 columns]\n"
     ]
    }
   ],
   "source": [
    "print(df)"
   ]
  },
  {
   "cell_type": "markdown",
   "metadata": {},
   "source": [
    "## Taking a look at the data csv"
   ]
  },
  {
   "cell_type": "code",
   "execution_count": 15,
   "metadata": {},
   "outputs": [
    {
     "data": {
      "text/html": [
       "<div>\n",
       "<style scoped>\n",
       "    .dataframe tbody tr th:only-of-type {\n",
       "        vertical-align: middle;\n",
       "    }\n",
       "\n",
       "    .dataframe tbody tr th {\n",
       "        vertical-align: top;\n",
       "    }\n",
       "\n",
       "    .dataframe thead th {\n",
       "        text-align: right;\n",
       "    }\n",
       "</style>\n",
       "<table border=\"1\" class=\"dataframe\">\n",
       "  <thead>\n",
       "    <tr style=\"text-align: right;\">\n",
       "      <th></th>\n",
       "      <th>gbifID</th>\n",
       "      <th>datasetKey</th>\n",
       "      <th>occurrenceID</th>\n",
       "      <th>kingdom</th>\n",
       "      <th>phylum</th>\n",
       "      <th>class</th>\n",
       "      <th>order</th>\n",
       "      <th>family</th>\n",
       "      <th>genus</th>\n",
       "      <th>species</th>\n",
       "      <th>...</th>\n",
       "      <th>identifiedBy</th>\n",
       "      <th>dateIdentified</th>\n",
       "      <th>license</th>\n",
       "      <th>rightsHolder</th>\n",
       "      <th>recordedBy</th>\n",
       "      <th>typeStatus</th>\n",
       "      <th>establishmentMeans</th>\n",
       "      <th>lastInterpreted</th>\n",
       "      <th>mediaType</th>\n",
       "      <th>issue</th>\n",
       "    </tr>\n",
       "  </thead>\n",
       "  <tbody>\n",
       "    <tr>\n",
       "      <th>0</th>\n",
       "      <td>2417026544</td>\n",
       "      <td>af5f680a-e0cc-46c8-b623-ceeaab70aa9e</td>\n",
       "      <td>MHA0027832</td>\n",
       "      <td>Plantae</td>\n",
       "      <td>Tracheophyta</td>\n",
       "      <td>Liliopsida</td>\n",
       "      <td>Poales</td>\n",
       "      <td>Cyperaceae</td>\n",
       "      <td>Eriophorum</td>\n",
       "      <td>Eriophorum angustifolium</td>\n",
       "      <td>...</td>\n",
       "      <td>Syreyschikov D.</td>\n",
       "      <td>NaN</td>\n",
       "      <td>CC_BY_4_0</td>\n",
       "      <td>GBS RAN - Glavny Botanichesky Sad Rossijskoj A...</td>\n",
       "      <td>Syreyschikov D. | Smirnov P.</td>\n",
       "      <td>NaN</td>\n",
       "      <td>NaN</td>\n",
       "      <td>2022-03-25T12:48:46.119Z</td>\n",
       "      <td>StillImage</td>\n",
       "      <td>DIFFERENT_OWNER_INSTITUTION</td>\n",
       "    </tr>\n",
       "    <tr>\n",
       "      <th>1</th>\n",
       "      <td>2417026527</td>\n",
       "      <td>af5f680a-e0cc-46c8-b623-ceeaab70aa9e</td>\n",
       "      <td>MHA0027833</td>\n",
       "      <td>Plantae</td>\n",
       "      <td>Tracheophyta</td>\n",
       "      <td>Liliopsida</td>\n",
       "      <td>Poales</td>\n",
       "      <td>Cyperaceae</td>\n",
       "      <td>Eriophorum</td>\n",
       "      <td>Eriophorum angustifolium</td>\n",
       "      <td>...</td>\n",
       "      <td>Syreyschikov D.</td>\n",
       "      <td>NaN</td>\n",
       "      <td>CC_BY_4_0</td>\n",
       "      <td>GBS RAN - Glavny Botanichesky Sad Rossijskoj A...</td>\n",
       "      <td>Syreyschikov D. | Smirnov P.</td>\n",
       "      <td>NaN</td>\n",
       "      <td>NaN</td>\n",
       "      <td>2022-03-25T12:48:46.120Z</td>\n",
       "      <td>StillImage</td>\n",
       "      <td>DIFFERENT_OWNER_INSTITUTION</td>\n",
       "    </tr>\n",
       "    <tr>\n",
       "      <th>2</th>\n",
       "      <td>2458329530</td>\n",
       "      <td>af5f680a-e0cc-46c8-b623-ceeaab70aa9e</td>\n",
       "      <td>MHA0003877</td>\n",
       "      <td>Plantae</td>\n",
       "      <td>Tracheophyta</td>\n",
       "      <td>Liliopsida</td>\n",
       "      <td>Alismatales</td>\n",
       "      <td>Hydrocharitaceae</td>\n",
       "      <td>Elodea</td>\n",
       "      <td>Elodea canadensis</td>\n",
       "      <td>...</td>\n",
       "      <td>Identified by the collector</td>\n",
       "      <td>NaN</td>\n",
       "      <td>CC_BY_4_0</td>\n",
       "      <td>GBS RAN - Glavny Botanichesky Sad Rossijskoj A...</td>\n",
       "      <td>S.S. Ganeshin</td>\n",
       "      <td>NaN</td>\n",
       "      <td>NaN</td>\n",
       "      <td>2022-03-25T12:48:46.136Z</td>\n",
       "      <td>StillImage</td>\n",
       "      <td>DIFFERENT_OWNER_INSTITUTION</td>\n",
       "    </tr>\n",
       "    <tr>\n",
       "      <th>3</th>\n",
       "      <td>2417025838</td>\n",
       "      <td>af5f680a-e0cc-46c8-b623-ceeaab70aa9e</td>\n",
       "      <td>MHA0027817</td>\n",
       "      <td>Plantae</td>\n",
       "      <td>Tracheophyta</td>\n",
       "      <td>Liliopsida</td>\n",
       "      <td>Poales</td>\n",
       "      <td>Cyperaceae</td>\n",
       "      <td>Eriophorum</td>\n",
       "      <td>Eriophorum angustifolium</td>\n",
       "      <td>...</td>\n",
       "      <td>Syreyschikov D.</td>\n",
       "      <td>NaN</td>\n",
       "      <td>CC_BY_4_0</td>\n",
       "      <td>GBS RAN - Glavny Botanichesky Sad Rossijskoj A...</td>\n",
       "      <td>Syreyschikov D. | Smirnov P.</td>\n",
       "      <td>NaN</td>\n",
       "      <td>NaN</td>\n",
       "      <td>2022-03-25T12:48:46.142Z</td>\n",
       "      <td>StillImage</td>\n",
       "      <td>DIFFERENT_OWNER_INSTITUTION</td>\n",
       "    </tr>\n",
       "    <tr>\n",
       "      <th>4</th>\n",
       "      <td>2458328836</td>\n",
       "      <td>af5f680a-e0cc-46c8-b623-ceeaab70aa9e</td>\n",
       "      <td>MHA0003842</td>\n",
       "      <td>Plantae</td>\n",
       "      <td>Tracheophyta</td>\n",
       "      <td>Liliopsida</td>\n",
       "      <td>Alismatales</td>\n",
       "      <td>Butomaceae</td>\n",
       "      <td>Butomus</td>\n",
       "      <td>Butomus umbellatus</td>\n",
       "      <td>...</td>\n",
       "      <td>Chernyakovskaya-Reyneke</td>\n",
       "      <td>NaN</td>\n",
       "      <td>CC_BY_4_0</td>\n",
       "      <td>GBS RAN - Glavny Botanichesky Sad Rossijskoj A...</td>\n",
       "      <td>Chernyakovskaya-Reyneke</td>\n",
       "      <td>NaN</td>\n",
       "      <td>NaN</td>\n",
       "      <td>2022-03-25T12:48:46.168Z</td>\n",
       "      <td>StillImage</td>\n",
       "      <td>DIFFERENT_OWNER_INSTITUTION</td>\n",
       "    </tr>\n",
       "  </tbody>\n",
       "</table>\n",
       "<p>5 rows × 50 columns</p>\n",
       "</div>"
      ],
      "text/plain": [
       "       gbifID                            datasetKey occurrenceID  kingdom  \\\n",
       "0  2417026544  af5f680a-e0cc-46c8-b623-ceeaab70aa9e   MHA0027832  Plantae   \n",
       "1  2417026527  af5f680a-e0cc-46c8-b623-ceeaab70aa9e   MHA0027833  Plantae   \n",
       "2  2458329530  af5f680a-e0cc-46c8-b623-ceeaab70aa9e   MHA0003877  Plantae   \n",
       "3  2417025838  af5f680a-e0cc-46c8-b623-ceeaab70aa9e   MHA0027817  Plantae   \n",
       "4  2458328836  af5f680a-e0cc-46c8-b623-ceeaab70aa9e   MHA0003842  Plantae   \n",
       "\n",
       "         phylum       class        order            family       genus  \\\n",
       "0  Tracheophyta  Liliopsida       Poales        Cyperaceae  Eriophorum   \n",
       "1  Tracheophyta  Liliopsida       Poales        Cyperaceae  Eriophorum   \n",
       "2  Tracheophyta  Liliopsida  Alismatales  Hydrocharitaceae      Elodea   \n",
       "3  Tracheophyta  Liliopsida       Poales        Cyperaceae  Eriophorum   \n",
       "4  Tracheophyta  Liliopsida  Alismatales        Butomaceae     Butomus   \n",
       "\n",
       "                    species  ...                 identifiedBy dateIdentified  \\\n",
       "0  Eriophorum angustifolium  ...              Syreyschikov D.            NaN   \n",
       "1  Eriophorum angustifolium  ...              Syreyschikov D.            NaN   \n",
       "2         Elodea canadensis  ...  Identified by the collector            NaN   \n",
       "3  Eriophorum angustifolium  ...              Syreyschikov D.            NaN   \n",
       "4        Butomus umbellatus  ...      Chernyakovskaya-Reyneke            NaN   \n",
       "\n",
       "     license                                       rightsHolder  \\\n",
       "0  CC_BY_4_0  GBS RAN - Glavny Botanichesky Sad Rossijskoj A...   \n",
       "1  CC_BY_4_0  GBS RAN - Glavny Botanichesky Sad Rossijskoj A...   \n",
       "2  CC_BY_4_0  GBS RAN - Glavny Botanichesky Sad Rossijskoj A...   \n",
       "3  CC_BY_4_0  GBS RAN - Glavny Botanichesky Sad Rossijskoj A...   \n",
       "4  CC_BY_4_0  GBS RAN - Glavny Botanichesky Sad Rossijskoj A...   \n",
       "\n",
       "                     recordedBy typeStatus establishmentMeans  \\\n",
       "0  Syreyschikov D. | Smirnov P.        NaN                NaN   \n",
       "1  Syreyschikov D. | Smirnov P.        NaN                NaN   \n",
       "2                 S.S. Ganeshin        NaN                NaN   \n",
       "3  Syreyschikov D. | Smirnov P.        NaN                NaN   \n",
       "4       Chernyakovskaya-Reyneke        NaN                NaN   \n",
       "\n",
       "            lastInterpreted   mediaType                        issue  \n",
       "0  2022-03-25T12:48:46.119Z  StillImage  DIFFERENT_OWNER_INSTITUTION  \n",
       "1  2022-03-25T12:48:46.120Z  StillImage  DIFFERENT_OWNER_INSTITUTION  \n",
       "2  2022-03-25T12:48:46.136Z  StillImage  DIFFERENT_OWNER_INSTITUTION  \n",
       "3  2022-03-25T12:48:46.142Z  StillImage  DIFFERENT_OWNER_INSTITUTION  \n",
       "4  2022-03-25T12:48:46.168Z  StillImage  DIFFERENT_OWNER_INSTITUTION  \n",
       "\n",
       "[5 rows x 50 columns]"
      ]
     },
     "execution_count": 15,
     "metadata": {},
     "output_type": "execute_result"
    }
   ],
   "source": [
    "df.head()"
   ]
  },
  {
   "cell_type": "markdown",
   "metadata": {},
   "source": [
    "## Looking at the most represented genus' in our data"
   ]
  },
  {
   "cell_type": "code",
   "execution_count": 7,
   "metadata": {},
   "outputs": [
    {
     "name": "stdout",
     "output_type": "stream",
     "text": [
      "We have 15462 genus in total!\n"
     ]
    },
    {
     "data": {
      "text/plain": [
       "Carex           228853\n",
       "Salix            78596\n",
       "Euphorbia        60624\n",
       "Juncus           57851\n",
       "Viola            49885\n",
       "                 ...  \n",
       "Sisyrinchium      5726\n",
       "Spiranthes        5633\n",
       "Mikania           5629\n",
       "Ulmus             5612\n",
       "Rhynchosia        5599\n",
       "Name: genus, Length: 250, dtype: int64"
      ]
     },
     "execution_count": 7,
     "metadata": {},
     "output_type": "execute_result"
    }
   ],
   "source": [
    "x = df['genus'].value_counts()\n",
    "#y = df.pivot(index='genus', columns='species', values=x)\n",
    "print(f\"We have {len(x)} genus in total!\")\n",
    "x[:250]"
   ]
  },
  {
   "cell_type": "markdown",
   "metadata": {},
   "source": [
    "## Extracting the ID values from the dataframe and storing it into a dictionary 'data'"
   ]
  },
  {
   "cell_type": "code",
   "execution_count": 8,
   "metadata": {},
   "outputs": [
    {
     "name": "stdout",
     "output_type": "stream",
     "text": [
      "5591 IDs will be scraped.\n",
      "Successfully scraped 5591 IDs.\n"
     ]
    }
   ],
   "source": [
    "\n",
    "data = {}\n",
    "\n",
    "NUMBER_TO_SKIP = math.floor(df.shape[0] / (df.shape[0] * PERCENT_TO_SCRAPE))\n",
    "\n",
    "NUMBER_TO_SCRAPE = math.ceil(df.shape[0] / NUMBER_TO_SKIP) #79\n",
    "print(str(NUMBER_TO_SCRAPE) + \" IDs will be scraped.\")\n",
    "for i in range(1, df.shape[0], NUMBER_TO_SKIP):\n",
    "#for i in range(1, NUMBER_TO_SCRAPE, NUMBER_TO_SKIP):\n",
    "    if DATASET_TYPE == \"dwca\":\n",
    "        id = df.at[i, \"id\"]\n",
    "    elif DATASET_TYPE == \"csv\":\n",
    "        id = df.at[i, \"gbifID\"]\n",
    "    data[i] = {\"id\": str(id)}\n",
    "print(\"Successfully scraped \" + str(len(data)) + \" IDs.\")\n"
   ]
  },
  {
   "cell_type": "markdown",
   "metadata": {},
   "source": [
    "## Scrape the data using GBIF API and extract the image URL, taxon, country, Collector information"
   ]
  },
  {
   "cell_type": "code",
   "execution_count": 9,
   "metadata": {
    "scrolled": true
   },
   "outputs": [
    {
     "name": "stdout",
     "output_type": "stream",
     "text": [
      "Data will be fetched for 5586 occurrences.\n",
      "Starting multiprocessing...\n"
     ]
    },
    {
     "name": "stderr",
     "output_type": "stream",
     "text": [
      "\r",
      "  0%|          | 0/5586 [00:00<?, ?it/s]"
     ]
    },
    {
     "name": "stdout",
     "output_type": "stream",
     "text": [
      "Fetching data...\n"
     ]
    },
    {
     "name": "stderr",
     "output_type": "stream",
     "text": [
      " 31%|███       | 1731/5586 [00:32<01:12, 53.35it/s]\n"
     ]
    },
    {
     "ename": "JSONDecodeError",
     "evalue": "Expecting value: line 1 column 1 (char 0)",
     "output_type": "error",
     "traceback": [
      "\u001b[0;31m---------------------------------------------------------------------------\u001b[0m",
      "\u001b[0;31mRemoteTraceback\u001b[0m                           Traceback (most recent call last)",
      "\u001b[0;31mRemoteTraceback\u001b[0m: \n\"\"\"\nTraceback (most recent call last):\n  File \"/share/pkg.7/python3/3.8.10/install/lib/python3.8/multiprocessing/pool.py\", line 125, in worker\n    result = (True, func(*args, **kwds))\n  File \"<ipython-input-9-32f2feb4014a>\", line 18, in scrape_occurrence\n    if 'media' in json.loads(rq.content):\n  File \"/share/pkg.7/python3/3.8.10/install/lib/python3.8/json/__init__.py\", line 357, in loads\n    return _default_decoder.decode(s)\n  File \"/share/pkg.7/python3/3.8.10/install/lib/python3.8/json/decoder.py\", line 337, in decode\n    obj, end = self.raw_decode(s, idx=_w(s, 0).end())\n  File \"/share/pkg.7/python3/3.8.10/install/lib/python3.8/json/decoder.py\", line 355, in raw_decode\n    raise JSONDecodeError(\"Expecting value\", s, err.value) from None\njson.decoder.JSONDecodeError: Expecting value: line 1 column 1 (char 0)\n\"\"\"",
      "\nThe above exception was the direct cause of the following exception:\n",
      "\u001b[0;31mJSONDecodeError\u001b[0m                           Traceback (most recent call last)",
      "\u001b[0;32m<ipython-input-9-32f2feb4014a>\u001b[0m in \u001b[0;36m<module>\u001b[0;34m\u001b[0m\n\u001b[1;32m     64\u001b[0m \u001b[0mprint\u001b[0m\u001b[0;34m(\u001b[0m\u001b[0;34m\"Fetching data...\"\u001b[0m\u001b[0;34m)\u001b[0m\u001b[0;34m\u001b[0m\u001b[0;34m\u001b[0m\u001b[0m\n\u001b[1;32m     65\u001b[0m \u001b[0;31m#index = 1\u001b[0m\u001b[0;34m\u001b[0m\u001b[0;34m\u001b[0m\u001b[0;34m\u001b[0m\u001b[0m\n\u001b[0;32m---> 66\u001b[0;31m \u001b[0;32mfor\u001b[0m \u001b[0mitem\u001b[0m \u001b[0;32min\u001b[0m \u001b[0mtqdm\u001b[0m\u001b[0;34m(\u001b[0m\u001b[0mpool\u001b[0m\u001b[0;34m.\u001b[0m\u001b[0mimap\u001b[0m\u001b[0;34m(\u001b[0m\u001b[0mscrape_occurrence\u001b[0m\u001b[0;34m,\u001b[0m \u001b[0mdata\u001b[0m\u001b[0;34m)\u001b[0m\u001b[0;34m,\u001b[0m \u001b[0mtotal\u001b[0m\u001b[0;34m=\u001b[0m\u001b[0mlen\u001b[0m\u001b[0;34m(\u001b[0m\u001b[0mdata\u001b[0m\u001b[0;34m)\u001b[0m\u001b[0;34m)\u001b[0m\u001b[0;34m:\u001b[0m\u001b[0;34m\u001b[0m\u001b[0;34m\u001b[0m\u001b[0m\n\u001b[0m\u001b[1;32m     67\u001b[0m     \u001b[0;32mif\u001b[0m \u001b[0mitem\u001b[0m\u001b[0;34m==\u001b[0m\u001b[0;32mNone\u001b[0m\u001b[0;34m:\u001b[0m\u001b[0;34m\u001b[0m\u001b[0;34m\u001b[0m\u001b[0m\n\u001b[1;32m     68\u001b[0m         \u001b[0;32mpass\u001b[0m\u001b[0;34m\u001b[0m\u001b[0;34m\u001b[0m\u001b[0m\n",
      "\u001b[0;32m/share/pkg.7/python3/3.8.10/install/lib/python3.8/site-packages/tqdm/std.py\u001b[0m in \u001b[0;36m__iter__\u001b[0;34m(self)\u001b[0m\n\u001b[1;32m   1176\u001b[0m \u001b[0;34m\u001b[0m\u001b[0m\n\u001b[1;32m   1177\u001b[0m         \u001b[0;32mtry\u001b[0m\u001b[0;34m:\u001b[0m\u001b[0;34m\u001b[0m\u001b[0;34m\u001b[0m\u001b[0m\n\u001b[0;32m-> 1178\u001b[0;31m             \u001b[0;32mfor\u001b[0m \u001b[0mobj\u001b[0m \u001b[0;32min\u001b[0m \u001b[0miterable\u001b[0m\u001b[0;34m:\u001b[0m\u001b[0;34m\u001b[0m\u001b[0;34m\u001b[0m\u001b[0m\n\u001b[0m\u001b[1;32m   1179\u001b[0m                 \u001b[0;32myield\u001b[0m \u001b[0mobj\u001b[0m\u001b[0;34m\u001b[0m\u001b[0;34m\u001b[0m\u001b[0m\n\u001b[1;32m   1180\u001b[0m                 \u001b[0;31m# Update and possibly print the progressbar.\u001b[0m\u001b[0;34m\u001b[0m\u001b[0;34m\u001b[0m\u001b[0;34m\u001b[0m\u001b[0m\n",
      "\u001b[0;32m/share/pkg.7/python3/3.8.10/install/lib/python3.8/multiprocessing/pool.py\u001b[0m in \u001b[0;36mnext\u001b[0;34m(self, timeout)\u001b[0m\n\u001b[1;32m    866\u001b[0m         \u001b[0;32mif\u001b[0m \u001b[0msuccess\u001b[0m\u001b[0;34m:\u001b[0m\u001b[0;34m\u001b[0m\u001b[0;34m\u001b[0m\u001b[0m\n\u001b[1;32m    867\u001b[0m             \u001b[0;32mreturn\u001b[0m \u001b[0mvalue\u001b[0m\u001b[0;34m\u001b[0m\u001b[0;34m\u001b[0m\u001b[0m\n\u001b[0;32m--> 868\u001b[0;31m         \u001b[0;32mraise\u001b[0m \u001b[0mvalue\u001b[0m\u001b[0;34m\u001b[0m\u001b[0;34m\u001b[0m\u001b[0m\n\u001b[0m\u001b[1;32m    869\u001b[0m \u001b[0;34m\u001b[0m\u001b[0m\n\u001b[1;32m    870\u001b[0m     \u001b[0m__next__\u001b[0m \u001b[0;34m=\u001b[0m \u001b[0mnext\u001b[0m                    \u001b[0;31m# XXX\u001b[0m\u001b[0;34m\u001b[0m\u001b[0;34m\u001b[0m\u001b[0m\n",
      "\u001b[0;31mJSONDecodeError\u001b[0m: Expecting value: line 1 column 1 (char 0)"
     ]
    }
   ],
   "source": [
    "#code to manually delete the data for corrupted or missing values, if required\n",
    "#del data[next(islice(data, 990, None))] \n",
    "from itertools import islice\n",
    "\n",
    "\n",
    "\n",
    "\n",
    "print(\"Data will be fetched for\", len(data), \"occurrences.\")\n",
    "\n",
    "\n",
    "def scrape_occurrence(key):\n",
    "    rq = requests.get(\"https://api.gbif.org/v1/occurrence/\" + str(data[key][\"id\"]))\n",
    "    return_dict = {}\n",
    "    return_dict[key] = {}\n",
    "    \n",
    "    if 'media' in json.loads(rq.content):\n",
    "        if not json.loads(rq.content)[\"media\"]: #checking for empty list\n",
    "        #print(json.loads(rq.content)[\"media\"][0].keys())\n",
    "            return None\n",
    "        else:\n",
    "            if 'identifier' in json.loads(rq.content)[\"media\"][0]:\n",
    "                return_dict[key][\"img_url\"] = json.loads(rq.content)[\"media\"][0][\"identifier\"]\n",
    "            else:\n",
    "                return None\n",
    "    else:\n",
    "        return None\n",
    "        #return_dict[key][\"img_url\"] = \"NAN\"\n",
    "    \n",
    "    if 'format' in json.loads(rq.content)[\"media\"][0]:\n",
    "        return_dict[key][\"img_type\"] = json.loads(rq.content)[\"media\"][0][\"format\"]\n",
    "    else:\n",
    "        return None   \n",
    "    \n",
    "    \n",
    "    if 'country' in json.loads(rq.content):\n",
    "        return_dict[key][\"country\"] = json.loads(rq.content)[\"country\"]\n",
    "    else:\n",
    "        return None\n",
    "    \n",
    "    if 'genus' in json.loads(rq.content):\n",
    "        return_dict[key][\"genus\"] = json.loads(rq.content)[\"genus\"]\n",
    "    else:\n",
    "        return None\n",
    "        #return_dict[key][\"genus\"] = \"NAN\"\n",
    "    \n",
    "    if 'species' in json.loads(rq.content):\n",
    "        return_dict[key][\"species\"] = json.loads(rq.content)[\"species\"]\n",
    "    else:\n",
    "        return None\n",
    "    \n",
    "    if 'recordedBy' in json.loads(rq.content):\n",
    "        return_dict[key][\"Collector\"] = json.loads(rq.content)[\"recordedBy\"]\n",
    "    else:\n",
    "        return None\n",
    "    \n",
    "    #print(return_dict)\n",
    "    return return_dict\n",
    "\n",
    "scrape = {}\n",
    "print(\"Starting multiprocessing...\")\n",
    "pool = mp.Pool(NUM_CORES)\n",
    "print(\"Fetching data...\")\n",
    "#index = 1\n",
    "for item in tqdm(pool.imap(scrape_occurrence, data), total=len(data)):\n",
    "    if item==None:\n",
    "        pass\n",
    "    else:\n",
    "        scrape.update(item)\n",
    "    \n",
    "pool.close()\n",
    "pool.join()\n",
    "\n",
    "print(\"\\nSuccessfully fetched data for\", len(scrape), \"occurrences.\")\n",
    "\n",
    "# for values in scrape.values(): \n",
    "#    print(values)\n"
   ]
  },
  {
   "cell_type": "code",
   "execution_count": null,
   "metadata": {},
   "outputs": [],
   "source": [
    "for values in scrape.values(): \n",
    "   print(values)"
   ]
  },
  {
   "cell_type": "markdown",
   "metadata": {},
   "source": [
    "## Showing the spread of the evaluation data and the frequencies of the higher populated genera"
   ]
  },
  {
   "cell_type": "code",
   "execution_count": 8,
   "metadata": {},
   "outputs": [
    {
     "data": {
      "image/png": "[encoded data removed]",
      "text/plain": [
       "<Figure size 432x288 with 1 Axes>"
      ]
     },
     "metadata": {
      "needs_background": "light"
     },
     "output_type": "display_data"
    }
   ],
   "source": [
    "import matplotlib.pyplot as plt\n",
    "from collections import Counter\n",
    "\n",
    "# Access the species values from the 'scrape' dictionary\n",
    "species_list = [scrape[key][\"species\"] for key in scrape]\n",
    "\n",
    "# Count the frequency of each species\n",
    "species_freq = dict(Counter(species_list))\n",
    "\n",
    "# Plot a histogram of the species values\n",
    "plt.hist(species_list, bins=len(species_freq))\n",
    "plt.xlabel('Species')\n",
    "plt.ylabel('Frequency')\n",
    "plt.show()"
   ]
  },
  {
   "cell_type": "code",
   "execution_count": 9,
   "metadata": {},
   "outputs": [
    {
     "name": "stdout",
     "output_type": "stream",
     "text": [
      "Number of species with 6, 5, 4, and 3 occurrences: 109\n",
      "{'Crepis paludosa': 3, 'Drosera rotundifolia': 4, 'Eriosema psoraleoides': 3, 'Viola pubescens': 3, 'Calamagrostis canadensis': 3, 'Solanum nigrum': 3, 'Lemna trisulca': 3, 'Viola adunca': 3, 'Rosa carolina': 3, 'Plagiomnium cuspidatum': 3, 'Gaylussacia baccata': 3, 'Tsuga canadensis': 3, 'Hypopitys monotropa': 3, 'Crataegus macrosperma': 4, 'Melilotus albus': 3, 'Tilia americana': 3, 'Ceratophyllum demersum': 3, 'Atriplex canescens': 3, 'Drosera intermedia': 3, 'Carex aquatilis': 3, 'Trisetum spicatum': 3, 'Photinia floribunda': 3, 'Rumex crispus': 3, 'Salix exigua': 3, 'Symphyotrichum pilosum': 3, 'Fagus grandifolia': 3, 'Vicia cracca': 5, 'Cystopteris fragilis': 3, 'Cercocarpus montanus': 3, 'Achillea millefolium': 3, 'Agrostis capillaris': 3, 'Osmunda regalis': 4, 'Potamogeton gramineus': 3, 'Hackelia deflexa': 3, 'Mentha longifolia': 3, 'Ranunculus peltatus': 4, 'Carex disticha': 3, 'Androsace septentrionalis': 5, 'Micranthes nivalis': 3, 'Diapensia lapponica': 3, 'Myosotis discolor': 3, 'Orthilia secunda': 6, 'Phleum pratense': 3, 'Vaccinium corymbosum': 3, 'Spiraea alba': 3, 'Apocynum cannabinum': 4, 'Avenella flexuosa': 4, 'Dennstaedtia punctilobula': 5, 'Polygala sanguinea': 4, 'Barbarea vulgaris': 3, 'Veronica serpyllifolia': 3, 'Crataegus crus-galli': 4, 'Ilex verticillata': 3, 'Sisymbrium altissimum': 3, 'Stellaria longifolia': 3, 'Erysimum cheiranthoides': 3, 'Digitaria sanguinalis': 3, 'Rorippa sylvestris': 4, 'Saxifraga granulata': 4, 'Festuca valesiaca': 3, 'Turritis glabra': 3, 'Heracleum sphondylium': 3, 'Vicia tetrasperma': 3, 'Persicaria lapathifolia': 3, 'Fragaria virginiana': 3, 'Vicia sativa': 3, 'Myriopteris aurea': 4, 'Elymus violaceus': 5, 'Chamaecrista nictitans': 3, 'Rosa dumalis': 3, 'Juncus articulatus': 3, 'Pyrus communis': 3, 'Dichanthelium dichotomum': 4, 'Equisetum sylvaticum': 3, 'Ceratodon purpureus': 5, 'Erysimum capitatum': 3, 'Echinochloa colonum': 3, 'Sceptridium multifidum': 3, 'Hesperis matronalis': 3, 'Eleocharis quinqueflora': 3, 'Thymus praecox': 3, 'Rumex acetosella': 3, 'Poa pratensis': 5, 'Poa secunda': 3, 'Oxytropis deflexa': 3, 'Knautia arvensis': 4, 'Equisetum arvense': 3, 'Asclepias purpurascens': 3, 'Linnaea borealis': 3, 'Dichanthelium acuminatum': 3, 'Glyceria striata': 3, 'Anthoxanthum odoratum': 3, 'Maianthemum racemosum': 3, 'Salix alba': 3, 'Raphanus raphanistrum': 3, 'Arabidopsis thaliana': 5, 'Castilleja miniata': 4, 'Equisetum hyemale': 3, 'Hamamelis virginiana': 3, 'Erigeron uniflorus': 3, 'Cardamine pratensis': 4, 'Cochlearia officinalis': 3, 'Campanula rotundifolia': 3, 'Valeriana sambucifolia': 3, 'Prunus virginiana': 3, 'Triticum aestivum': 3, 'Poa palustris': 3, 'Phalaris arundinacea': 3, 'Polystichum lonchitis': 3}\n"
     ]
    }
   ],
   "source": [
    "species_count = {}\n",
    "for species, freq in species_freq.items():\n",
    "    if freq in [6, 5, 4, 3]:\n",
    "        species_count[species] = freq\n",
    "\n",
    "print(\"Number of species with 6, 5, 4, and 3 occurrences:\", len(species_count))\n",
    "print(species_count)"
   ]
  },
  {
   "cell_type": "markdown",
   "metadata": {},
   "source": [
    "## Downloading the images and storing them along with Country, Collector and Taxon information"
   ]
  },
  {
   "cell_type": "code",
   "execution_count": 23,
   "metadata": {},
   "outputs": [
    {
     "name": "stdout",
     "output_type": "stream",
     "text": [
      "Starting multiprocessing...\n",
      "Downloading images...\n"
     ]
    },
    {
     "name": "stderr",
     "output_type": "stream",
     "text": [
      "100%|██████████| 4447/4447 [00:00<00:00, 2269384.34it/s]\n"
     ]
    },
    {
     "name": "stdout",
     "output_type": "stream",
     "text": [
      "\n",
      "Successfully downloaded 4183 images\n"
     ]
    }
   ],
   "source": [
    "from time import sleep\n",
    "import requests\n",
    "import shutil\n",
    "import multiprocessing as mp\n",
    "import os\n",
    "from functools import partial\n",
    "\n",
    "def download(key):\n",
    "    try:\n",
    "        img = requests.get(scrape[key][\"img_url\"], stream=True, timeout=10)\n",
    "        with open(\n",
    "            OUTPUT_PATH_IMAGES + str(key) + \".\" + scrape[1][\"img_type\"].split(\"/\", 1)[1], \"wb\"\n",
    "        ) as f:\n",
    "            shutil.copyfileobj(img.raw, f)\n",
    "        return True, key\n",
    "    except:\n",
    "        return False, key\n",
    "\n",
    "data = scrape.copy()\n",
    "\n",
    "if not os.path.exists(OUTPUT_PATH_IMAGES):\n",
    "    os.makedirs(OUTPUT_PATH_IMAGES)\n",
    "\n",
    "print(\"Starting multiprocessing...\")\n",
    "pool = mp.Pool(NUM_CORES)\n",
    "print(\"Downloading images...\")\n",
    "    #func = partial(download, data=data)\n",
    "    #errorCount = 0\n",
    "errorKeys = []\n",
    "for success, key in tqdm(pool.map(download, scrape), total=len(scrape)):\n",
    "    if success == False:\n",
    "        errorKeys.append(key)\n",
    "pool.close()\n",
    "pool.join()\n",
    "for key in errorKeys:\n",
    "    del scrape[key]\n",
    "    ## Loop to reindex downloaded images sequentially\n",
    "    # for count, filename in enumerate(os.listdir(OUTPUT_PATH)):\n",
    "    #     new = str(count) + \".\" + filename.split(\".\")[1]  # new file name\n",
    "    #     src = os.path.join(OUTPUT_PATH, filename)  # file source\n",
    "    #     dst = os.path.join(OUTPUT_PATH, new)  # file destination\n",
    "    #     # rename all the file\n",
    "    #     os.rename(src, dst)\n",
    "print(\"\\nSuccessfully downloaded\", len(scrape), \"images\")\n",
    "\n",
    "\n"
   ]
  },
  {
   "cell_type": "code",
   "execution_count": 31,
   "metadata": {},
   "outputs": [
    {
     "name": "stdout",
     "output_type": "stream",
     "text": [
      "based on image names we get 264 keys that had a download failure.\n",
      "error keys:  264\n",
      "manually delete these images from the created images folder:  []\n"
     ]
    }
   ],
   "source": [
    "image_folder = \"/projectnb/sparkgrp/ml-herbarium-grp/ml-herbarium-data-spring2023/TrOCR evaluation data/images/20230327-145405/\"\n",
    "\n",
    "# Get the list of image files in the folder\n",
    "image_files = os.listdir(image_folder)\n",
    "\n",
    "# Iterate over the dictionary keys and check if the corresponding image file exists\n",
    "missing_keys = []\n",
    "for key in data.keys():\n",
    "    image_filename = str(key) + '.jpg'\n",
    "    if image_filename not in image_files:\n",
    "        missing_keys.append(key)\n",
    "print(f\"based on image names we get {len(missing_keys)} keys that had a download failure.\")\n",
    "print(\"error keys: \",len(errorKeys))\n",
    "manual_deletion = [key for key in errorKeys if key not in missing_keys]\n",
    "print(\"manually delete these images from the created images folder if any due to multiprocess issues: \",manual_deletion)"
   ]
  },
  {
   "cell_type": "code",
   "execution_count": 33,
   "metadata": {},
   "outputs": [
    {
     "name": "stdout",
     "output_type": "stream",
     "text": [
      "\n",
      "Successfully wrote countries to file.\n"
     ]
    }
   ],
   "source": [
    "with open(TEXT_PATH + \"countries.txt\", \"w\") as f:\n",
    "    for idx in scrape:\n",
    "        f.write(scrape[idx][\"country\"] + \"\\n\")\n",
    "print(\"\\nSuccessfully wrote countries to file.\")"
   ]
  },
  {
   "cell_type": "code",
   "execution_count": 34,
   "metadata": {},
   "outputs": [
    {
     "name": "stdout",
     "output_type": "stream",
     "text": [
      "\n",
      "Successfully wrote taxon to file.\n"
     ]
    }
   ],
   "source": [
    "with open(TEXT_PATH + \"taxon.txt\", \"w\") as f:\n",
    "    for idx in scrape:\n",
    "        f.write(scrape[idx][\"genus\"] + \" \" + scrape[idx][\"species\"] + \"\\n\")\n",
    "print(\"\\nSuccessfully wrote taxon to file.\")"
   ]
  },
  {
   "cell_type": "code",
   "execution_count": 35,
   "metadata": {},
   "outputs": [
    {
     "name": "stdout",
     "output_type": "stream",
     "text": [
      "\n",
      "Successfully wrote collector to file.\n"
     ]
    }
   ],
   "source": [
    "with open(TEXT_PATH + \"collector.txt\", \"w\") as f:\n",
    "    for idx in scrape:\n",
    "        f.write(scrape[idx][\"Collector\"] + \"\\n\")\n",
    "print(\"\\nSuccessfully wrote collector to file.\")"
   ]
  },
  {
   "cell_type": "markdown",
   "metadata": {},
   "source": [
    "## Regenerating only the subset of the GBIF data that we have scraped and storing it as a CSV"
   ]
  },
  {
   "cell_type": "code",
   "execution_count": 18,
   "metadata": {},
   "outputs": [],
   "source": [
    "image_folder = \"/projectnb/sparkgrp/ml-herbarium-grp/ml-herbarium-data-spring2023/TrOCR evaluation data/images/20230327-145405/\"\n",
    "#get the file names from the folder of extracted images, where the file names are the keys to the GBIF dataset\n",
    "file_names = sorted(os.listdir(image_folder), key=lambda x: int(x.split('.')[0])) \n",
    "keys = [file.split('.')[0] for file in file_names]\n",
    "new_df = df.loc[df.index.map(str).isin(keys)]\n"
   ]
  },
  {
   "cell_type": "code",
   "execution_count": 19,
   "metadata": {},
   "outputs": [
    {
     "data": {
      "text/html": [
       "<div>\n",
       "<style scoped>\n",
       "    .dataframe tbody tr th:only-of-type {\n",
       "        vertical-align: middle;\n",
       "    }\n",
       "\n",
       "    .dataframe tbody tr th {\n",
       "        vertical-align: top;\n",
       "    }\n",
       "\n",
       "    .dataframe thead th {\n",
       "        text-align: right;\n",
       "    }\n",
       "</style>\n",
       "<table border=\"1\" class=\"dataframe\">\n",
       "  <thead>\n",
       "    <tr style=\"text-align: right;\">\n",
       "      <th></th>\n",
       "      <th>gbifID</th>\n",
       "      <th>datasetKey</th>\n",
       "      <th>occurrenceID</th>\n",
       "      <th>kingdom</th>\n",
       "      <th>phylum</th>\n",
       "      <th>class</th>\n",
       "      <th>order</th>\n",
       "      <th>family</th>\n",
       "      <th>genus</th>\n",
       "      <th>species</th>\n",
       "      <th>...</th>\n",
       "      <th>identifiedBy</th>\n",
       "      <th>dateIdentified</th>\n",
       "      <th>license</th>\n",
       "      <th>rightsHolder</th>\n",
       "      <th>recordedBy</th>\n",
       "      <th>typeStatus</th>\n",
       "      <th>establishmentMeans</th>\n",
       "      <th>lastInterpreted</th>\n",
       "      <th>mediaType</th>\n",
       "      <th>issue</th>\n",
       "    </tr>\n",
       "  </thead>\n",
       "  <tbody>\n",
       "    <tr>\n",
       "      <th>14995</th>\n",
       "      <td>2573245514</td>\n",
       "      <td>38df3ef2-72ea-4341-aad1-c67ac7c9f8b3</td>\n",
       "      <td>8a49aec6-2895-4d47-b832-38933dbf944f</td>\n",
       "      <td>Plantae</td>\n",
       "      <td>Bryophyta</td>\n",
       "      <td>Andreaeopsida</td>\n",
       "      <td>Andreaeales</td>\n",
       "      <td>Andreaeaceae</td>\n",
       "      <td>Andreaea</td>\n",
       "      <td>Andreaea rothii</td>\n",
       "      <td>...</td>\n",
       "      <td>NaN</td>\n",
       "      <td>NaN</td>\n",
       "      <td>CC_BY_4_0</td>\n",
       "      <td>University of Vermont</td>\n",
       "      <td>D. L. Dutton</td>\n",
       "      <td>NaN</td>\n",
       "      <td>NaN</td>\n",
       "      <td>2022-03-01T16:43:34.104Z</td>\n",
       "      <td>StillImage</td>\n",
       "      <td>INSTITUTION_MATCH_FUZZY;COLLECTION_MATCH_NONE</td>\n",
       "    </tr>\n",
       "    <tr>\n",
       "      <th>16661</th>\n",
       "      <td>2573248958</td>\n",
       "      <td>38df3ef2-72ea-4341-aad1-c67ac7c9f8b3</td>\n",
       "      <td>afff22ae-b495-490c-8de0-a7eb7f3cb4ab</td>\n",
       "      <td>Plantae</td>\n",
       "      <td>Bryophyta</td>\n",
       "      <td>Bryopsida</td>\n",
       "      <td>Orthotrichales</td>\n",
       "      <td>Orthotrichaceae</td>\n",
       "      <td>Orthotrichum</td>\n",
       "      <td>Orthotrichum lyellii</td>\n",
       "      <td>...</td>\n",
       "      <td>W. M. Rooks</td>\n",
       "      <td>NaN</td>\n",
       "      <td>CC_BY_4_0</td>\n",
       "      <td>University of Vermont</td>\n",
       "      <td>J. A. Allen</td>\n",
       "      <td>NaN</td>\n",
       "      <td>NaN</td>\n",
       "      <td>2022-03-01T16:43:35.045Z</td>\n",
       "      <td>StillImage</td>\n",
       "      <td>INSTITUTION_MATCH_FUZZY;COLLECTION_MATCH_NONE</td>\n",
       "    </tr>\n",
       "    <tr>\n",
       "      <th>18327</th>\n",
       "      <td>2573252650</td>\n",
       "      <td>38df3ef2-72ea-4341-aad1-c67ac7c9f8b3</td>\n",
       "      <td>9606b2df-7113-4d46-ba99-57e40ebfd5fe</td>\n",
       "      <td>Plantae</td>\n",
       "      <td>Bryophyta</td>\n",
       "      <td>Bryopsida</td>\n",
       "      <td>Bryales</td>\n",
       "      <td>Mniaceae</td>\n",
       "      <td>Rhizomnium</td>\n",
       "      <td>Rhizomnium glabrescens</td>\n",
       "      <td>...</td>\n",
       "      <td>NaN</td>\n",
       "      <td>NaN</td>\n",
       "      <td>CC_BY_4_0</td>\n",
       "      <td>University of Vermont</td>\n",
       "      <td>J. B. Flett</td>\n",
       "      <td>NaN</td>\n",
       "      <td>NaN</td>\n",
       "      <td>2022-03-01T16:43:35.645Z</td>\n",
       "      <td>StillImage</td>\n",
       "      <td>INSTITUTION_MATCH_FUZZY;COLLECTION_MATCH_NONE</td>\n",
       "    </tr>\n",
       "    <tr>\n",
       "      <th>19993</th>\n",
       "      <td>2573257992</td>\n",
       "      <td>38df3ef2-72ea-4341-aad1-c67ac7c9f8b3</td>\n",
       "      <td>4619a039-2d5c-4fc4-aa3b-36700dfda9c8</td>\n",
       "      <td>Plantae</td>\n",
       "      <td>Bryophyta</td>\n",
       "      <td>Bryopsida</td>\n",
       "      <td>Pottiales</td>\n",
       "      <td>Pottiaceae</td>\n",
       "      <td>Gymnostomum</td>\n",
       "      <td>Gymnostomum aeruginosum</td>\n",
       "      <td>...</td>\n",
       "      <td>W. M. Rooks</td>\n",
       "      <td>NaN</td>\n",
       "      <td>CC_BY_4_0</td>\n",
       "      <td>University of Vermont</td>\n",
       "      <td>D. L. Dutton</td>\n",
       "      <td>NaN</td>\n",
       "      <td>NaN</td>\n",
       "      <td>2022-03-01T16:43:36.622Z</td>\n",
       "      <td>StillImage</td>\n",
       "      <td>INSTITUTION_MATCH_FUZZY;COLLECTION_MATCH_NONE</td>\n",
       "    </tr>\n",
       "    <tr>\n",
       "      <th>21659</th>\n",
       "      <td>1056409769</td>\n",
       "      <td>7e380070-f762-11e1-a439-00145eb45e9a</td>\n",
       "      <td>e241e202-5a77-4844-b8b1-ab9eba33b11d</td>\n",
       "      <td>Plantae</td>\n",
       "      <td>Tracheophyta</td>\n",
       "      <td>Magnoliopsida</td>\n",
       "      <td>Cucurbitales</td>\n",
       "      <td>Cucurbitaceae</td>\n",
       "      <td>Apodanthera</td>\n",
       "      <td>Apodanthera palmeri</td>\n",
       "      <td>...</td>\n",
       "      <td>Manuel J. Belgrano</td>\n",
       "      <td>NaN</td>\n",
       "      <td>CC0_1_0</td>\n",
       "      <td>NaN</td>\n",
       "      <td>Edward Palmer</td>\n",
       "      <td>ISOTYPE</td>\n",
       "      <td>NaN</td>\n",
       "      <td>2022-03-26T14:50:49.959Z</td>\n",
       "      <td>StillImage</td>\n",
       "      <td>GEODETIC_DATUM_ASSUMED_WGS84;INSTITUTION_MATCH...</td>\n",
       "    </tr>\n",
       "  </tbody>\n",
       "</table>\n",
       "<p>5 rows × 50 columns</p>\n",
       "</div>"
      ],
      "text/plain": [
       "           gbifID                            datasetKey  \\\n",
       "14995  2573245514  38df3ef2-72ea-4341-aad1-c67ac7c9f8b3   \n",
       "16661  2573248958  38df3ef2-72ea-4341-aad1-c67ac7c9f8b3   \n",
       "18327  2573252650  38df3ef2-72ea-4341-aad1-c67ac7c9f8b3   \n",
       "19993  2573257992  38df3ef2-72ea-4341-aad1-c67ac7c9f8b3   \n",
       "21659  1056409769  7e380070-f762-11e1-a439-00145eb45e9a   \n",
       "\n",
       "                               occurrenceID  kingdom        phylum  \\\n",
       "14995  8a49aec6-2895-4d47-b832-38933dbf944f  Plantae     Bryophyta   \n",
       "16661  afff22ae-b495-490c-8de0-a7eb7f3cb4ab  Plantae     Bryophyta   \n",
       "18327  9606b2df-7113-4d46-ba99-57e40ebfd5fe  Plantae     Bryophyta   \n",
       "19993  4619a039-2d5c-4fc4-aa3b-36700dfda9c8  Plantae     Bryophyta   \n",
       "21659  e241e202-5a77-4844-b8b1-ab9eba33b11d  Plantae  Tracheophyta   \n",
       "\n",
       "               class           order           family         genus  \\\n",
       "14995  Andreaeopsida     Andreaeales     Andreaeaceae      Andreaea   \n",
       "16661      Bryopsida  Orthotrichales  Orthotrichaceae  Orthotrichum   \n",
       "18327      Bryopsida         Bryales         Mniaceae    Rhizomnium   \n",
       "19993      Bryopsida       Pottiales       Pottiaceae   Gymnostomum   \n",
       "21659  Magnoliopsida    Cucurbitales    Cucurbitaceae   Apodanthera   \n",
       "\n",
       "                       species  ...        identifiedBy dateIdentified  \\\n",
       "14995          Andreaea rothii  ...                 NaN            NaN   \n",
       "16661     Orthotrichum lyellii  ...         W. M. Rooks            NaN   \n",
       "18327   Rhizomnium glabrescens  ...                 NaN            NaN   \n",
       "19993  Gymnostomum aeruginosum  ...         W. M. Rooks            NaN   \n",
       "21659      Apodanthera palmeri  ...  Manuel J. Belgrano            NaN   \n",
       "\n",
       "         license           rightsHolder     recordedBy typeStatus  \\\n",
       "14995  CC_BY_4_0  University of Vermont   D. L. Dutton        NaN   \n",
       "16661  CC_BY_4_0  University of Vermont    J. A. Allen        NaN   \n",
       "18327  CC_BY_4_0  University of Vermont    J. B. Flett        NaN   \n",
       "19993  CC_BY_4_0  University of Vermont   D. L. Dutton        NaN   \n",
       "21659    CC0_1_0                    NaN  Edward Palmer    ISOTYPE   \n",
       "\n",
       "      establishmentMeans           lastInterpreted   mediaType  \\\n",
       "14995                NaN  2022-03-01T16:43:34.104Z  StillImage   \n",
       "16661                NaN  2022-03-01T16:43:35.045Z  StillImage   \n",
       "18327                NaN  2022-03-01T16:43:35.645Z  StillImage   \n",
       "19993                NaN  2022-03-01T16:43:36.622Z  StillImage   \n",
       "21659                NaN  2022-03-26T14:50:49.959Z  StillImage   \n",
       "\n",
       "                                                   issue  \n",
       "14995      INSTITUTION_MATCH_FUZZY;COLLECTION_MATCH_NONE  \n",
       "16661      INSTITUTION_MATCH_FUZZY;COLLECTION_MATCH_NONE  \n",
       "18327      INSTITUTION_MATCH_FUZZY;COLLECTION_MATCH_NONE  \n",
       "19993      INSTITUTION_MATCH_FUZZY;COLLECTION_MATCH_NONE  \n",
       "21659  GEODETIC_DATUM_ASSUMED_WGS84;INSTITUTION_MATCH...  \n",
       "\n",
       "[5 rows x 50 columns]"
      ]
     },
     "execution_count": 19,
     "metadata": {},
     "output_type": "execute_result"
    }
   ],
   "source": [
    "new_df.head()"
   ]
  },
  {
   "cell_type": "code",
   "execution_count": 21,
   "metadata": {},
   "outputs": [],
   "source": [
    "path= \"/projectnb/sparkgrp/ml-herbarium-grp/ml-herbarium-data-spring2023/TrOCR evaluation data/Evaluation_data.csv\"\n",
    "os.makedirs(os.path.dirname(path), exist_ok=True)\n",
    "new_df.to_csv(path, index=True)"
   ]
  }
 ],
 "metadata": {
  "kernelspec": {
   "display_name": "Python 3",
   "language": "python",
   "name": "python3"
  },
  "language_info": {
   "codemirror_mode": {
    "name": "ipython",
    "version": 3
   },
   "file_extension": ".py",
   "mimetype": "text/x-python",
   "name": "python",
   "nbconvert_exporter": "python",
   "pygments_lexer": "ipython3",
   "version": "3.8.10"
  },
  "vscode": {
   "interpreter": {
    "hash": "130d73f8309ac19da784caa32a8a028c2e3e3cf1777160297b14954e0ee31d98"
   }
  }
 },
 "nbformat": 4,
 "nbformat_minor": 2
}
